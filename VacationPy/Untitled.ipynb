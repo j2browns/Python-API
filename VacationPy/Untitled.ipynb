{
 "cells": [
  {
   "cell_type": "code",
   "execution_count": 1,
   "metadata": {},
   "outputs": [],
   "source": [
    "# Import dependencies\n",
    "import pandas as pd\n",
    "import numpy as np\n",
    "import matplotlib.pyplot as plt\n",
    "import scipy.stats as sts\n",
    "import gmaps\n",
    "from config import gkey\n",
    "import requests\n",
    "import json\n"
   ]
  },
  {
   "cell_type": "code",
   "execution_count": 2,
   "metadata": {},
   "outputs": [],
   "source": [
    "#defining ideal conditions\n",
    "temp_max = 35\n",
    "temp_min = 20\n",
    "humidity_max=40\n",
    "cloud_max=50\n",
    "wind_max=10 #in meters/sec"
   ]
  },
  {
   "cell_type": "code",
   "execution_count": 3,
   "metadata": {},
   "outputs": [
    {
     "name": "stdout",
     "output_type": "stream",
     "text": [
      "['City', 'Country', 'Lat', 'Long', 'Temp', 'Humidity', '%Cloud', 'Wind_Speed', 'Hemisphere']\n",
      "(501, 9)\n"
     ]
    }
   ],
   "source": [
    "filename = \"Data_and_Output/weather.csv\"\n",
    "destination_df = pd.read_csv(filename, dtype = str)\n",
    "destination_df = destination_df.astype({\"Lat\":\"float64\",\"Long\":\"float64\", \"Temp\":\"float64\", \"Humidity\":\"float64\",\n",
    "                                        \"%Cloud\":\"float64\",\"Wind_Speed\":\"float64\"})\n",
    "print(list(destination_df))\n",
    "print(destination_df.shape)      "
   ]
  },
  {
   "cell_type": "code",
   "execution_count": 4,
   "metadata": {},
   "outputs": [
    {
     "name": "stdout",
     "output_type": "stream",
     "text": [
      "Heat Map Showing Humidity Variation at 500 Locations Chosen Randomly\n"
     ]
    },
    {
     "data": {
      "application/vnd.jupyter.widget-view+json": {
       "model_id": "6813fd14756846d4a9b9f4cbdb14c899",
       "version_major": 2,
       "version_minor": 0
      },
      "text/plain": [
       "Figure(layout=FigureLayout(border='2px solid black', height='600px', padding='4px', width='600px'))"
      ]
     },
     "metadata": {},
     "output_type": "display_data"
    }
   ],
   "source": [
    "#creating heat map of humidity\n",
    "gmaps.configure(gkey)\n",
    "\n",
    "locations = destination_df[[\"Lat\", \"Long\"]]\n",
    "humidity = destination_df[\"Humidity\"]\n",
    "\n",
    "\n",
    "hum_max = humidity.max()\n",
    "figure_layout = {\n",
    "    'width': '600px',\n",
    "    'height': '600px',\n",
    "    'border': '2px solid black',\n",
    "    'padding': '4px'\n",
    "}\n",
    "\n",
    "fig = gmaps.figure(layout = figure_layout, map_type=\"TERRAIN\", center = [0,0], zoom_level =1)\n",
    "\n",
    "heat_layer = gmaps.heatmap_layer(locations, weights=humidity, \n",
    "                                 dissipating = False, max_intensity = hum_max,  \n",
    "                                 point_radius=4)\n",
    "heat_layer.gradient = [\"aqua\",\"green\", \"yellow\",\"red\"]  #color codes from (https://www.w3.org/TR/css-color-3/#html4)\n",
    "heat_layer.opacity = 0.3\n",
    "fig.add_layer(heat_layer)\n",
    "\n",
    "print(\"Heat Map Showing Humidity Variation at 500 Locations Chosen Randomly\")\n",
    "\n",
    "fig"
   ]
  },
  {
   "cell_type": "code",
   "execution_count": null,
   "metadata": {},
   "outputs": [],
   "source": []
  },
  {
   "cell_type": "code",
   "execution_count": 5,
   "metadata": {},
   "outputs": [
    {
     "data": {
      "text/html": [
       "<div>\n",
       "<style scoped>\n",
       "    .dataframe tbody tr th:only-of-type {\n",
       "        vertical-align: middle;\n",
       "    }\n",
       "\n",
       "    .dataframe tbody tr th {\n",
       "        vertical-align: top;\n",
       "    }\n",
       "\n",
       "    .dataframe thead th {\n",
       "        text-align: right;\n",
       "    }\n",
       "</style>\n",
       "<table border=\"1\" class=\"dataframe\">\n",
       "  <thead>\n",
       "    <tr style=\"text-align: right;\">\n",
       "      <th></th>\n",
       "      <th>City</th>\n",
       "      <th>Country</th>\n",
       "      <th>Lat</th>\n",
       "      <th>Long</th>\n",
       "      <th>Temp</th>\n",
       "      <th>Humidity</th>\n",
       "      <th>%Cloud</th>\n",
       "      <th>Wind_Speed</th>\n",
       "      <th>Hemisphere</th>\n",
       "    </tr>\n",
       "  </thead>\n",
       "  <tbody>\n",
       "    <tr>\n",
       "      <th>18</th>\n",
       "      <td>sakakah</td>\n",
       "      <td>sa</td>\n",
       "      <td>29.0129</td>\n",
       "      <td>42.8145</td>\n",
       "      <td>30.00</td>\n",
       "      <td>23.0</td>\n",
       "      <td>0.0</td>\n",
       "      <td>6.20</td>\n",
       "      <td>Northern</td>\n",
       "    </tr>\n",
       "    <tr>\n",
       "      <th>52</th>\n",
       "      <td>carnarvon</td>\n",
       "      <td>au</td>\n",
       "      <td>-19.4920</td>\n",
       "      <td>109.7165</td>\n",
       "      <td>23.00</td>\n",
       "      <td>27.0</td>\n",
       "      <td>0.0</td>\n",
       "      <td>3.60</td>\n",
       "      <td>Southern</td>\n",
       "    </tr>\n",
       "    <tr>\n",
       "      <th>101</th>\n",
       "      <td>talavera de la reina</td>\n",
       "      <td>es</td>\n",
       "      <td>39.6201</td>\n",
       "      <td>-4.5537</td>\n",
       "      <td>24.77</td>\n",
       "      <td>31.0</td>\n",
       "      <td>0.0</td>\n",
       "      <td>2.60</td>\n",
       "      <td>Northern</td>\n",
       "    </tr>\n",
       "    <tr>\n",
       "      <th>106</th>\n",
       "      <td>urumqi</td>\n",
       "      <td>cn</td>\n",
       "      <td>42.8242</td>\n",
       "      <td>89.4065</td>\n",
       "      <td>29.00</td>\n",
       "      <td>26.0</td>\n",
       "      <td>0.0</td>\n",
       "      <td>2.00</td>\n",
       "      <td>Northern</td>\n",
       "    </tr>\n",
       "    <tr>\n",
       "      <th>109</th>\n",
       "      <td>sidi ali</td>\n",
       "      <td>dz</td>\n",
       "      <td>35.0556</td>\n",
       "      <td>0.2564</td>\n",
       "      <td>24.29</td>\n",
       "      <td>38.0</td>\n",
       "      <td>0.0</td>\n",
       "      <td>1.85</td>\n",
       "      <td>Northern</td>\n",
       "    </tr>\n",
       "    <tr>\n",
       "      <th>127</th>\n",
       "      <td>yumen</td>\n",
       "      <td>cn</td>\n",
       "      <td>43.3560</td>\n",
       "      <td>97.5002</td>\n",
       "      <td>25.35</td>\n",
       "      <td>31.0</td>\n",
       "      <td>0.0</td>\n",
       "      <td>6.75</td>\n",
       "      <td>Northern</td>\n",
       "    </tr>\n",
       "    <tr>\n",
       "      <th>169</th>\n",
       "      <td>omsukchan</td>\n",
       "      <td>ru</td>\n",
       "      <td>60.6001</td>\n",
       "      <td>155.7842</td>\n",
       "      <td>27.50</td>\n",
       "      <td>27.0</td>\n",
       "      <td>0.0</td>\n",
       "      <td>2.33</td>\n",
       "      <td>Northern</td>\n",
       "    </tr>\n",
       "    <tr>\n",
       "      <th>230</th>\n",
       "      <td>aswan</td>\n",
       "      <td>eg</td>\n",
       "      <td>22.3465</td>\n",
       "      <td>28.9367</td>\n",
       "      <td>29.99</td>\n",
       "      <td>21.0</td>\n",
       "      <td>0.0</td>\n",
       "      <td>3.64</td>\n",
       "      <td>Northern</td>\n",
       "    </tr>\n",
       "    <tr>\n",
       "      <th>235</th>\n",
       "      <td>khandyga</td>\n",
       "      <td>ru</td>\n",
       "      <td>64.1536</td>\n",
       "      <td>138.2116</td>\n",
       "      <td>29.64</td>\n",
       "      <td>32.0</td>\n",
       "      <td>0.0</td>\n",
       "      <td>2.15</td>\n",
       "      <td>Northern</td>\n",
       "    </tr>\n",
       "    <tr>\n",
       "      <th>292</th>\n",
       "      <td>broome</td>\n",
       "      <td>au</td>\n",
       "      <td>-24.1441</td>\n",
       "      <td>124.2337</td>\n",
       "      <td>25.00</td>\n",
       "      <td>16.0</td>\n",
       "      <td>0.0</td>\n",
       "      <td>6.70</td>\n",
       "      <td>Southern</td>\n",
       "    </tr>\n",
       "    <tr>\n",
       "      <th>295</th>\n",
       "      <td>kifri</td>\n",
       "      <td>iq</td>\n",
       "      <td>34.8356</td>\n",
       "      <td>44.8346</td>\n",
       "      <td>33.63</td>\n",
       "      <td>13.0</td>\n",
       "      <td>0.0</td>\n",
       "      <td>3.05</td>\n",
       "      <td>Northern</td>\n",
       "    </tr>\n",
       "    <tr>\n",
       "      <th>303</th>\n",
       "      <td>atar</td>\n",
       "      <td>mr</td>\n",
       "      <td>19.1506</td>\n",
       "      <td>-12.2512</td>\n",
       "      <td>32.76</td>\n",
       "      <td>32.0</td>\n",
       "      <td>0.0</td>\n",
       "      <td>6.13</td>\n",
       "      <td>Northern</td>\n",
       "    </tr>\n",
       "    <tr>\n",
       "      <th>335</th>\n",
       "      <td>port hedland</td>\n",
       "      <td>au</td>\n",
       "      <td>-23.4123</td>\n",
       "      <td>120.4663</td>\n",
       "      <td>24.00</td>\n",
       "      <td>23.0</td>\n",
       "      <td>0.0</td>\n",
       "      <td>9.80</td>\n",
       "      <td>Southern</td>\n",
       "    </tr>\n",
       "    <tr>\n",
       "      <th>355</th>\n",
       "      <td>karratha</td>\n",
       "      <td>au</td>\n",
       "      <td>-20.9829</td>\n",
       "      <td>114.3062</td>\n",
       "      <td>23.57</td>\n",
       "      <td>32.0</td>\n",
       "      <td>0.0</td>\n",
       "      <td>8.98</td>\n",
       "      <td>Southern</td>\n",
       "    </tr>\n",
       "    <tr>\n",
       "      <th>360</th>\n",
       "      <td>kununurra</td>\n",
       "      <td>au</td>\n",
       "      <td>-14.9995</td>\n",
       "      <td>125.3265</td>\n",
       "      <td>28.00</td>\n",
       "      <td>17.0</td>\n",
       "      <td>0.0</td>\n",
       "      <td>5.10</td>\n",
       "      <td>Southern</td>\n",
       "    </tr>\n",
       "    <tr>\n",
       "      <th>405</th>\n",
       "      <td>erzin</td>\n",
       "      <td>ru</td>\n",
       "      <td>47.7507</td>\n",
       "      <td>95.6912</td>\n",
       "      <td>22.34</td>\n",
       "      <td>38.0</td>\n",
       "      <td>0.0</td>\n",
       "      <td>2.38</td>\n",
       "      <td>Northern</td>\n",
       "    </tr>\n",
       "    <tr>\n",
       "      <th>412</th>\n",
       "      <td>orange cove</td>\n",
       "      <td>us</td>\n",
       "      <td>36.8395</td>\n",
       "      <td>-119.0275</td>\n",
       "      <td>33.65</td>\n",
       "      <td>30.0</td>\n",
       "      <td>1.0</td>\n",
       "      <td>2.66</td>\n",
       "      <td>Northern</td>\n",
       "    </tr>\n",
       "    <tr>\n",
       "      <th>447</th>\n",
       "      <td>marawi</td>\n",
       "      <td>sd</td>\n",
       "      <td>20.8800</td>\n",
       "      <td>30.3558</td>\n",
       "      <td>31.45</td>\n",
       "      <td>17.0</td>\n",
       "      <td>2.0</td>\n",
       "      <td>3.79</td>\n",
       "      <td>Northern</td>\n",
       "    </tr>\n",
       "    <tr>\n",
       "      <th>463</th>\n",
       "      <td>dzhebariki-khaya</td>\n",
       "      <td>ru</td>\n",
       "      <td>63.7705</td>\n",
       "      <td>138.7566</td>\n",
       "      <td>29.84</td>\n",
       "      <td>30.0</td>\n",
       "      <td>1.0</td>\n",
       "      <td>2.64</td>\n",
       "      <td>Northern</td>\n",
       "    </tr>\n",
       "    <tr>\n",
       "      <th>475</th>\n",
       "      <td>tabuk</td>\n",
       "      <td>sa</td>\n",
       "      <td>27.3638</td>\n",
       "      <td>36.8797</td>\n",
       "      <td>29.00</td>\n",
       "      <td>21.0</td>\n",
       "      <td>0.0</td>\n",
       "      <td>5.70</td>\n",
       "      <td>Northern</td>\n",
       "    </tr>\n",
       "    <tr>\n",
       "      <th>479</th>\n",
       "      <td>hami</td>\n",
       "      <td>cn</td>\n",
       "      <td>40.6977</td>\n",
       "      <td>94.1443</td>\n",
       "      <td>28.07</td>\n",
       "      <td>29.0</td>\n",
       "      <td>0.0</td>\n",
       "      <td>1.96</td>\n",
       "      <td>Northern</td>\n",
       "    </tr>\n",
       "    <tr>\n",
       "      <th>492</th>\n",
       "      <td>mountain home</td>\n",
       "      <td>us</td>\n",
       "      <td>43.1281</td>\n",
       "      <td>-115.7044</td>\n",
       "      <td>32.00</td>\n",
       "      <td>22.0</td>\n",
       "      <td>1.0</td>\n",
       "      <td>3.10</td>\n",
       "      <td>Northern</td>\n",
       "    </tr>\n",
       "  </tbody>\n",
       "</table>\n",
       "</div>"
      ],
      "text/plain": [
       "                     City Country      Lat      Long   Temp  Humidity  %Cloud  \\\n",
       "18                sakakah      sa  29.0129   42.8145  30.00      23.0     0.0   \n",
       "52              carnarvon      au -19.4920  109.7165  23.00      27.0     0.0   \n",
       "101  talavera de la reina      es  39.6201   -4.5537  24.77      31.0     0.0   \n",
       "106                urumqi      cn  42.8242   89.4065  29.00      26.0     0.0   \n",
       "109              sidi ali      dz  35.0556    0.2564  24.29      38.0     0.0   \n",
       "127                 yumen      cn  43.3560   97.5002  25.35      31.0     0.0   \n",
       "169             omsukchan      ru  60.6001  155.7842  27.50      27.0     0.0   \n",
       "230                 aswan      eg  22.3465   28.9367  29.99      21.0     0.0   \n",
       "235              khandyga      ru  64.1536  138.2116  29.64      32.0     0.0   \n",
       "292                broome      au -24.1441  124.2337  25.00      16.0     0.0   \n",
       "295                 kifri      iq  34.8356   44.8346  33.63      13.0     0.0   \n",
       "303                  atar      mr  19.1506  -12.2512  32.76      32.0     0.0   \n",
       "335          port hedland      au -23.4123  120.4663  24.00      23.0     0.0   \n",
       "355              karratha      au -20.9829  114.3062  23.57      32.0     0.0   \n",
       "360             kununurra      au -14.9995  125.3265  28.00      17.0     0.0   \n",
       "405                 erzin      ru  47.7507   95.6912  22.34      38.0     0.0   \n",
       "412           orange cove      us  36.8395 -119.0275  33.65      30.0     1.0   \n",
       "447                marawi      sd  20.8800   30.3558  31.45      17.0     2.0   \n",
       "463      dzhebariki-khaya      ru  63.7705  138.7566  29.84      30.0     1.0   \n",
       "475                 tabuk      sa  27.3638   36.8797  29.00      21.0     0.0   \n",
       "479                  hami      cn  40.6977   94.1443  28.07      29.0     0.0   \n",
       "492         mountain home      us  43.1281 -115.7044  32.00      22.0     1.0   \n",
       "\n",
       "     Wind_Speed Hemisphere  \n",
       "18         6.20   Northern  \n",
       "52         3.60   Southern  \n",
       "101        2.60   Northern  \n",
       "106        2.00   Northern  \n",
       "109        1.85   Northern  \n",
       "127        6.75   Northern  \n",
       "169        2.33   Northern  \n",
       "230        3.64   Northern  \n",
       "235        2.15   Northern  \n",
       "292        6.70   Southern  \n",
       "295        3.05   Northern  \n",
       "303        6.13   Northern  \n",
       "335        9.80   Southern  \n",
       "355        8.98   Southern  \n",
       "360        5.10   Southern  \n",
       "405        2.38   Northern  \n",
       "412        2.66   Northern  \n",
       "447        3.79   Northern  \n",
       "463        2.64   Northern  \n",
       "475        5.70   Northern  \n",
       "479        1.96   Northern  \n",
       "492        3.10   Northern  "
      ]
     },
     "execution_count": 5,
     "metadata": {},
     "output_type": "execute_result"
    }
   ],
   "source": [
    "#filtering data\n",
    "\n",
    "\n",
    "destination_df = destination_df.loc[(destination_df[\"Temp\"]<=temp_max)&(destination_df[\"Temp\"]>=temp_min)]\n",
    "destination_df = destination_df.loc[(destination_df[\"Humidity\"]<=humidity_max)]\n",
    "destination_df = destination_df.loc[(destination_df[\"%Cloud\"]<=cloud_max)]\n",
    "destination_df =  destination_df.loc[(destination_df[\"%Cloud\"]<=wind_max)]\n",
    "destination_df"
   ]
  },
  {
   "cell_type": "code",
   "execution_count": 6,
   "metadata": {},
   "outputs": [
    {
     "data": {
      "text/plain": [
       "(22, 9)"
      ]
     },
     "execution_count": 6,
     "metadata": {},
     "output_type": "execute_result"
    }
   ],
   "source": [
    "destination_df.shape"
   ]
  },
  {
   "cell_type": "code",
   "execution_count": 34,
   "metadata": {},
   "outputs": [],
   "source": [
    "destination_df = destination_df.astype({\"Lat\":\"object\",\"Long\":\"object\"})\n",
    "\n",
    "\n",
    "\n",
    "loc_x = [destination_df.iloc[i][2] for i in range(0,len(destination_df))]\n",
    "loc_y = [destination_df.iloc[i][2] for i in range(0,len(destination_df))]\n",
    "loc = [(f\"{loc_x[i]} , {loc_y[i]}\") for i in range(0,len(loc_x))]\n",
    "#locations = ((destination_df.iloc[i][2]&\",\"&destination_df.iloc[i][3]) for i in range(0,len(destination_df)))\n",
    "\n",
    "#target_search=\"Hotel\"\n",
    "target_radius = 10000\n",
    "target_type = \"hotel\"\n",
    "base_url = \"https://maps.googleapis.com/maps/api/place/nearbysearch/json\"\n",
    "\n",
    "\n",
    "m=0 #m to track exceptions if needed\n",
    "hotel = []\n",
    "lat = []\n",
    "long = []\n",
    "for i in range(0,len(loc)):\n",
    "            params = {\n",
    "                   \"location\":loc[i],\n",
    "                   \"radius\":target_radius,\n",
    "                   \"type\":target_type,\n",
    "                   \"key\":gkey\n",
    "               }\n",
    "            try:\n",
    "                response = requests.get(base_url, params=params)\n",
    "                data=response.json()\n",
    "                \n",
    "            except KeyError:\n",
    "                m+=1\n",
    "            if data[\"status\"]!= \"ZERO_RESULTS\":\n",
    "                hotel.append(data[\"results\"][0][\"name\"])\n",
    "                lat.append((data[\"results\"][0][\"geometry\"][\"location\"][\"lat\"]))\n",
    "                long.append((data[\"results\"][0][\"geometry\"][\"location\"][\"lng\"]))\n",
    "                \n",
    "            else:\n",
    "                hotel.append(\"No hotel in 10 km\")\n",
    "                lat.append((loc_x[i]))\n",
    "                long.append((loc_y[i]))\n",
    "                \n",
    "         \n",
    "            \n",
    "            "
   ]
  },
  {
   "cell_type": "code",
   "execution_count": 35,
   "metadata": {},
   "outputs": [
    {
     "name": "stdout",
     "output_type": "stream",
     "text": [
      "['الزعيم للخدمات والتسويق', 'No hotel in 10 km', 'Üzümlü', 'Lentekhi', 'No hotel in 10 km', 'Karasu', \"Ivdel'\", 'No hotel in 10 km', 'No hotel in 10 km', 'No hotel in 10 km', 'No hotel in 10 km', 'Gbc E-Lounge', 'No hotel in 10 km', 'No hotel in 10 km', 'No hotel in 10 km', 'Naushibay', 'Musabeyli', 'Doanh Nghiệp Tư Nhân Phú Hào', 'No hotel in 10 km', 'No hotel in 10 km', 'Sivrikaya', 'Kabardino-Balkarskiy Vysokogornyy Gosudarstvennyy Zapovednik']\n",
      "[28.97493749999999, -19.492, 39.71029799999999, 42.7931509, 35.0556, 43.2953641, 60.6970661, 22.3465, 64.1536, -24.1441, 34.8356, 19.143315, -23.4123, -20.9829, -14.9995, 47.7759204, 36.885897, 20.86116729999999, 63.7705, 27.3638, 40.680068, 43.07396509999999]\n"
     ]
    }
   ],
   "source": [
    "print(hotel)\n",
    "print(lat)"
   ]
  },
  {
   "cell_type": "code",
   "execution_count": 41,
   "metadata": {},
   "outputs": [
    {
     "data": {
      "application/vnd.jupyter.widget-view+json": {
       "model_id": "6bef65e94a6846b39bcf853b11816390",
       "version_major": 2,
       "version_minor": 0
      },
      "text/plain": [
       "Figure(layout=FigureLayout(border='2px solid black', height='600px', padding='4px', width='600px'))"
      ]
     },
     "metadata": {},
     "output_type": "display_data"
    }
   ],
   "source": [
    "loc_vacation = []\n",
    "for i in range(0,len(hotel)):\n",
    "    if hotel[i]!= \"No hotel in 10 km\":        \n",
    "        loc_x = lat[i]\n",
    "        loc_y = long[i]\n",
    "        loc_vacation.append((loc_x, loc_y))\n",
    "\n",
    "#loc_vacation = [(-19,22 )]\n",
    "fig1 = gmaps.figure(layout = figure_layout, map_type=\"TERRAIN\", center = [0,0], zoom_level =1)\n",
    "markers = gmaps.marker_layer(loc_vacation)\n",
    "fig1.add_layer(markers)\n",
    "fig1"
   ]
  },
  {
   "cell_type": "code",
   "execution_count": 28,
   "metadata": {},
   "outputs": [
    {
     "data": {
      "text/plain": [
       "'-19.492'"
      ]
     },
     "execution_count": 28,
     "metadata": {},
     "output_type": "execute_result"
    }
   ],
   "source": [
    "loc_x[1]"
   ]
  },
  {
   "cell_type": "code",
   "execution_count": 18,
   "metadata": {},
   "outputs": [
    {
     "data": {
      "text/plain": [
       "22"
      ]
     },
     "execution_count": 18,
     "metadata": {},
     "output_type": "execute_result"
    }
   ],
   "source": [
    "loc_y[1]"
   ]
  },
  {
   "cell_type": "code",
   "execution_count": 42,
   "metadata": {},
   "outputs": [
    {
     "data": {
      "text/plain": [
       "11"
      ]
     },
     "execution_count": 42,
     "metadata": {},
     "output_type": "execute_result"
    }
   ],
   "source": [
    "len(loc_vacation)"
   ]
  },
  {
   "cell_type": "code",
   "execution_count": null,
   "metadata": {},
   "outputs": [],
   "source": []
  }
 ],
 "metadata": {
  "kernelspec": {
   "display_name": "Python 3",
   "language": "python",
   "name": "python3"
  },
  "language_info": {
   "codemirror_mode": {
    "name": "ipython",
    "version": 3
   },
   "file_extension": ".py",
   "mimetype": "text/x-python",
   "name": "python",
   "nbconvert_exporter": "python",
   "pygments_lexer": "ipython3",
   "version": "3.6.10"
  }
 },
 "nbformat": 4,
 "nbformat_minor": 4
}
