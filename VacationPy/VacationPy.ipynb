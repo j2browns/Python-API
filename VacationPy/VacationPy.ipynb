{
 "cells": [
  {
   "cell_type": "markdown",
   "metadata": {},
   "source": [
    "## VacationPy Homework\n",
    "\n",
    "Code takes excel csv from WeatherPy and selects locations that meet specified criteria for temperature, humidity, %cloud and \n",
    "wind speed.\n",
    "\n"
   ]
  },
  {
   "cell_type": "code",
   "execution_count": 1,
   "metadata": {},
   "outputs": [],
   "source": [
    "# Import dependencies\n",
    "import pandas as pd\n",
    "import numpy as np\n",
    "import matplotlib.pyplot as plt\n",
    "import scipy.stats as sts\n",
    "import gmaps\n",
    "from config import gkey\n",
    "import requests\n",
    "import json\n",
    "\n",
    "\n"
   ]
  },
  {
   "cell_type": "code",
   "execution_count": 2,
   "metadata": {},
   "outputs": [],
   "source": [
    "#defining ideal conditions\n",
    "temp_max = 35 #in degree C\n",
    "temp_min = 25 #in degree C\n",
    "humidity_max=45 #in %\n",
    "cloud_max=50 #in %\n",
    "wind_max=7 #in meters/sec"
   ]
  },
  {
   "cell_type": "code",
   "execution_count": 3,
   "metadata": {},
   "outputs": [],
   "source": [
    "#Importing data.  Data has been transferred from WeatherPy to subdirectory\n",
    "filename = \"Data_and_Output/weather.csv\"\n",
    "destination_df = pd.read_csv(filename, dtype = str)\n",
    "destination_df = destination_df.astype({\"Lat\":\"float64\",\"Long\":\"float64\", \"Temp\":\"float64\", \"Humidity\":\"float64\",\n",
    "                                        \"%Cloud\":\"float64\",\"Wind_Speed\":\"float64\"})\n",
    "start_num=destination_df[\"Temp\"].count()"
   ]
  },
  {
   "cell_type": "code",
   "execution_count": 4,
   "metadata": {},
   "outputs": [
    {
     "name": "stdout",
     "output_type": "stream",
     "text": [
      "Heat Map Showing Humidity Variation at 500 Locations Chosen Randomly\n"
     ]
    },
    {
     "data": {
      "application/vnd.jupyter.widget-view+json": {
       "model_id": "f8664d24ec4b4942b9dcfcc51d022353",
       "version_major": 2,
       "version_minor": 0
      },
      "text/plain": [
       "Figure(layout=FigureLayout(border='2px solid black', height='600px', padding='4px', width='600px'))"
      ]
     },
     "metadata": {},
     "output_type": "display_data"
    }
   ],
   "source": [
    "#creating heat map of humidity\n",
    "gmaps.configure(gkey)\n",
    "\n",
    "locations = destination_df[[\"Lat\", \"Long\"]]\n",
    "humidity = destination_df[\"Humidity\"]\n",
    "\n",
    "\n",
    "hum_max = humidity.max()\n",
    "figure_layout = {\n",
    "    'width': '600px',\n",
    "    'height': '600px',\n",
    "    'border': '2px solid black',\n",
    "    'padding': '4px'\n",
    "}\n",
    "\n",
    "#creating details of map.  Zoom and center are necessary to prevent odd scaling of map\n",
    "fig = gmaps.figure(layout = figure_layout, map_type=\"TERRAIN\", center = [0,0], zoom_level =1)\n",
    "\n",
    "heat_layer = gmaps.heatmap_layer(locations, weights=humidity, \n",
    "                                 dissipating = False, max_intensity = hum_max,  \n",
    "                                 point_radius=4)\n",
    "heat_layer.gradient = [\"aqua\",\"green\", \"yellow\",\"red\"]  #color codes from (https://www.w3.org/TR/css-color-3/#html4)\n",
    "heat_layer.opacity = 0.3\n",
    "fig.add_layer(heat_layer)\n",
    "\n",
    "print(\"Heat Map Showing Humidity Variation at 500 Locations Chosen Randomly\")\n",
    "\n",
    "fig"
   ]
  },
  {
   "cell_type": "code",
   "execution_count": null,
   "metadata": {},
   "outputs": [],
   "source": []
  },
  {
   "cell_type": "code",
   "execution_count": 5,
   "metadata": {},
   "outputs": [],
   "source": [
    "#filtering data based on climate conditions\n",
    "mid_num = destination_df[\"Temp\"].count()\n",
    "destination_df = destination_df.loc[(destination_df[\"Temp\"]<=temp_max)&(destination_df[\"Temp\"]>=temp_min)]\n",
    "destination_df = destination_df.loc[(destination_df[\"Humidity\"]<=humidity_max)]\n",
    "destination_df = destination_df.loc[(destination_df[\"%Cloud\"]<=cloud_max)]\n",
    "destination_df =destination_df.loc[(destination_df[\"%Cloud\"]<=wind_max)]\n",
    "\n"
   ]
  },
  {
   "cell_type": "code",
   "execution_count": null,
   "metadata": {},
   "outputs": [],
   "source": []
  },
  {
   "cell_type": "code",
   "execution_count": 6,
   "metadata": {},
   "outputs": [],
   "source": [
    "#code below finds hotels in cities that meet climate requirements.  In some cases no hotel may be available, so the text\n",
    "#  \"No hotel in 10 km\" is included\n",
    "# assignment originally called for searching within 5km radius.  This tended to give no results.  Increased to 10 km to \n",
    "# give some results\n",
    "\n",
    "destination_df = destination_df.astype({\"Lat\":\"object\",\"Long\":\"object\"})\n",
    "\n",
    "loc_x = [destination_df.iloc[i][2] for i in range(0,len(destination_df))]\n",
    "loc_y = [destination_df.iloc[i][3] for i in range(0,len(destination_df))]\n",
    "loc = [(f\"{loc_x[i]} , {loc_y[i]}\") for i in range(0,len(loc_x))]\n",
    "\n",
    "#target_search=\"Hotel\"\n",
    "target_search = \"hotel\"\n",
    "target_radius = 10000\n",
    "target_type = \"hotel\"\n",
    "base_url = \"https://maps.googleapis.com/maps/api/place/nearbysearch/json\"\n",
    "\n",
    "\n",
    "m=0 #m to track exceptions if needed\n",
    "hotel = []\n",
    "lat = []\n",
    "long = []\n",
    "for i in range(0,len(loc)):\n",
    "            params = {\n",
    "                   \"location\":loc[i],\n",
    "                    \"keyword\":target_search,\n",
    "                   \"radius\":target_radius,\n",
    "                   \"type\":target_type,\n",
    "                   \"key\":gkey\n",
    "               }\n",
    "            try:\n",
    "                response = requests.get(base_url, params=params)\n",
    "                data=response.json()\n",
    "                \n",
    "            except KeyError:\n",
    "                m+=1\n",
    "            if data[\"status\"]!= \"ZERO_RESULTS\":\n",
    "                hotel.append(data[\"results\"][0][\"name\"])\n",
    "                lat.append((data[\"results\"][0][\"geometry\"][\"location\"][\"lat\"]))\n",
    "                long.append((data[\"results\"][0][\"geometry\"][\"location\"][\"lng\"]))\n",
    "                \n",
    "            else:\n",
    "                hotel.append(\"No hotel in 10 km\")\n",
    "                lat.append((loc_x[i]))\n",
    "                long.append((loc_y[i]))\n",
    "                \n",
    "         \n",
    "            \n",
    "            "
   ]
  },
  {
   "cell_type": "code",
   "execution_count": 7,
   "metadata": {},
   "outputs": [],
   "source": [
    "#assembling a dataframe with final information\n",
    "loc_vacation_df = pd.DataFrame(columns = [\"Hotel\", \"Lat\", \"Long\"])\n",
    "for i in range(0,len(hotel)):\n",
    "    if hotel[i]!= \"No hotel in 10 km\":        \n",
    "        loc_x = lat[i]\n",
    "        loc_y = long[i]\n",
    "        loc_vacation_df = loc_vacation_df.append({\"Hotel\":hotel[i],\"Lat\":loc_x,\"Long\":loc_y},ignore_index = True)\n",
    "\n"
   ]
  },
  {
   "cell_type": "code",
   "execution_count": 8,
   "metadata": {},
   "outputs": [],
   "source": [
    "#code below finds locations with hotels from selected list meeting climate conditions\n",
    "country=[] #list of countries\n",
    "city = [] #list of cities\n",
    "length_list = [] #length of results in json to help locate city name\n",
    "\n",
    "base_url=\"https://maps.googleapis.com/maps/api/geocode/json?\"\n",
    "for i in range(0,(loc_vacation_df[\"Hotel\"].count())):\n",
    "    #creating tuple with coordinates\n",
    "    lat = str(loc_vacation_df.iloc[i][1])\n",
    "    long = str(loc_vacation_df.iloc[i][2])\n",
    "    lat_long = f\"{lat},{long}\"\n",
    "    \n",
    "    #assembling URL for query\n",
    "    query_url = base_url+\"latlng=\"+lat_long+\"&key=\"+gkey\n",
    "    response = requests.get(query_url).json()\n",
    "    length = len(response[\"results\"])\n",
    "    length_list.append(len(response[\"results\"]))\n",
    "    \n",
    "    #based on length of \"results\" in json need to change field for location of city\n",
    "    if length<9:\n",
    "        city_p = length - 3\n",
    "    else:\n",
    "        city_p = length -4\n",
    " \n",
    "    country.append(response[\"results\"][length-1][\"formatted_address\"])\n",
    "    city.append(response[\"results\"][city_p][\"address_components\"][0][\"long_name\"])\n",
    "    \n",
    "    #print(json.dumps(response, indent=4, sort_keys=True))"
   ]
  },
  {
   "cell_type": "code",
   "execution_count": 9,
   "metadata": {},
   "outputs": [
    {
     "name": "stdout",
     "output_type": "stream",
     "text": [
      "Selected locations and hotels\n"
     ]
    },
    {
     "data": {
      "text/html": [
       "<div>\n",
       "<style scoped>\n",
       "    .dataframe tbody tr th:only-of-type {\n",
       "        vertical-align: middle;\n",
       "    }\n",
       "\n",
       "    .dataframe tbody tr th {\n",
       "        vertical-align: top;\n",
       "    }\n",
       "\n",
       "    .dataframe thead th {\n",
       "        text-align: right;\n",
       "    }\n",
       "</style>\n",
       "<table border=\"1\" class=\"dataframe\">\n",
       "  <thead>\n",
       "    <tr style=\"text-align: right;\">\n",
       "      <th></th>\n",
       "      <th>Hotel</th>\n",
       "      <th>Lat</th>\n",
       "      <th>Long</th>\n",
       "      <th>City</th>\n",
       "      <th>Country</th>\n",
       "    </tr>\n",
       "  </thead>\n",
       "  <tbody>\n",
       "    <tr>\n",
       "      <th>0</th>\n",
       "      <td>Bedouin Valley Eco Lodge</td>\n",
       "      <td>24.965362</td>\n",
       "      <td>34.932579</td>\n",
       "      <td>Marsa Alam</td>\n",
       "      <td>Egypt</td>\n",
       "    </tr>\n",
       "    <tr>\n",
       "      <th>1</th>\n",
       "      <td>Hotel Grand Swiss</td>\n",
       "      <td>36.374134</td>\n",
       "      <td>44.201255</td>\n",
       "      <td>Shaqlawa</td>\n",
       "      <td>Iraq</td>\n",
       "    </tr>\n",
       "    <tr>\n",
       "      <th>2</th>\n",
       "      <td>هوتل شهرداری</td>\n",
       "      <td>36.911350</td>\n",
       "      <td>66.184928</td>\n",
       "      <td>Mingajik</td>\n",
       "      <td>Afghanistan</td>\n",
       "    </tr>\n",
       "    <tr>\n",
       "      <th>3</th>\n",
       "      <td>Araguaia Hotel</td>\n",
       "      <td>-18.217484</td>\n",
       "      <td>-49.736272</td>\n",
       "      <td>Bom Jesus de Goiás</td>\n",
       "      <td>Brazil</td>\n",
       "    </tr>\n",
       "  </tbody>\n",
       "</table>\n",
       "</div>"
      ],
      "text/plain": [
       "                      Hotel        Lat       Long                City  \\\n",
       "0  Bedouin Valley Eco Lodge  24.965362  34.932579          Marsa Alam   \n",
       "1         Hotel Grand Swiss  36.374134  44.201255            Shaqlawa   \n",
       "2              هوتل شهرداری  36.911350  66.184928            Mingajik   \n",
       "3            Araguaia Hotel -18.217484 -49.736272  Bom Jesus de Goiás   \n",
       "\n",
       "       Country  \n",
       "0        Egypt  \n",
       "1         Iraq  \n",
       "2  Afghanistan  \n",
       "3       Brazil  "
      ]
     },
     "execution_count": 9,
     "metadata": {},
     "output_type": "execute_result"
    }
   ],
   "source": [
    "#prepping data for markers on maps. \n",
    "#need location as a tuple (lat,long) and info as a string (hotel name, city, country)\n",
    "loc_vacation_df[\"City\"]=city\n",
    "loc_vacation_df[\"Country\"]=country\n",
    "print(\"Selected locations and hotels\")\n",
    "loc_pair=[]\n",
    "loc_text=[]\n",
    "for i in range(0,len(loc_vacation_df)):\n",
    "    loc_pair.append((loc_vacation_df.iloc[i][1],loc_vacation_df.iloc[i][2]))\n",
    "    loc_text.append(f\"{loc_vacation_df.iloc[i][0]} in \\n {loc_vacation_df.iloc[i][3]}, {loc_vacation_df.iloc[i][4]}\")\n",
    "    \n",
    "final_num = loc_vacation_df[\"Hotel\"].count()\n",
    "loc_vacation_df\n"
   ]
  },
  {
   "cell_type": "code",
   "execution_count": 10,
   "metadata": {},
   "outputs": [
    {
     "name": "stdout",
     "output_type": "stream",
     "text": [
      "Global Humidity Map with Select Hotels in Locations Meeting Following:\n",
      "\n",
      "Temperature (degree C) between 25 and 35.\n",
      "Humidity below 45%\n",
      "Cloud cover less than 50%\n",
      "Wind speed less than 7 m/sec\n",
      "\n",
      "Started with 501 locations and filtered down to 501 locations satisfying climate conditions\n",
      "Then filtered down to 4 with hotels in 10km radius.\n"
     ]
    },
    {
     "data": {
      "application/vnd.jupyter.widget-view+json": {
       "model_id": "f8664d24ec4b4942b9dcfcc51d022353",
       "version_major": 2,
       "version_minor": 0
      },
      "text/plain": [
       "Figure(layout=FigureLayout(border='2px solid black', height='600px', padding='4px', width='600px'))"
      ]
     },
     "metadata": {},
     "output_type": "display_data"
    }
   ],
   "source": [
    "#replotting heat map with markers and labels for select hotels\n",
    "print(\"Global Humidity Map with Select Hotels in Locations Meeting Following:\")\n",
    "print(\"\")\n",
    "print(f\"Temperature (degree C) between {temp_min} and {temp_max}.\")\n",
    "print(f\"Humidity below {humidity_max}%\")\n",
    "print(f\"Cloud cover less than {cloud_max}%\")\n",
    "print(f\"Wind speed less than {wind_max} m/sec\")\n",
    "print(\"\")\n",
    "print(f\"Started with {start_num} locations and filtered down to {mid_num} locations satisfying climate conditions\")\n",
    "print(f\"Then filtered down to {final_num} with hotels in 10km radius.\")\n",
    "\n",
    "markers = gmaps.marker_layer(loc_pair, hover_text = loc_text, display_info_box = True, \n",
    "                             info_box_content = loc_text)\n",
    "fig.add_layer(markers)\n",
    "fig"
   ]
  },
  {
   "cell_type": "code",
   "execution_count": null,
   "metadata": {},
   "outputs": [],
   "source": []
  },
  {
   "cell_type": "code",
   "execution_count": null,
   "metadata": {},
   "outputs": [],
   "source": []
  }
 ],
 "metadata": {
  "kernelspec": {
   "display_name": "Python 3",
   "language": "python",
   "name": "python3"
  },
  "language_info": {
   "codemirror_mode": {
    "name": "ipython",
    "version": 3
   },
   "file_extension": ".py",
   "mimetype": "text/x-python",
   "name": "python",
   "nbconvert_exporter": "python",
   "pygments_lexer": "ipython3",
   "version": "3.6.10"
  }
 },
 "nbformat": 4,
 "nbformat_minor": 4
}
